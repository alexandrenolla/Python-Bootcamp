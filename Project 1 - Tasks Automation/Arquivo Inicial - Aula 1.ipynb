{
 "cells": [
  {
   "cell_type": "code",
   "execution_count": 2,
   "metadata": {},
   "outputs": [],
   "source": [
    "# Automação de Sistemas e Processos com Python\n",
    "\n",
    "### Desafio:\n",
    "\n",
    "# Todos os dias, o nosso sistema atualiza as vendas do dia anterior.\n",
    "# O seu trabalho diário, como analista, é enviar um e-mail para a diretoria, assim que começar a trabalhar, com o faturamento e a quantidade de produtos vendidos no dia anterior\n",
    "\n",
    "# E-mail da diretoria: seugmail+diretoria@gmail.com<br>\n",
    "# Local onde o sistema disponibiliza as vendas do dia anterior: Google drive.\n",
    "\n",
    "# Para resolver isso, vamos usar o pyautogui, uma biblioteca de automação de comandos do mouse e do teclado"
   ]
  },
  {
   "cell_type": "code",
   "execution_count": 37,
   "metadata": {},
   "outputs": [],
   "source": [
    "import pyautogui # Comandos de automação do mouse e teclado\n",
    "import pyperclip # Comando copy que falta na biblioteca do pyautogui\n",
    "import time # Comando para delay de segurança\n",
    "\n",
    "# Passo 1: Entrar no sistema da empresa (link do drive) \n",
    "pyautogui.hotkey('command','t')\n",
    "time.sleep(5)\n",
    "pyperclip.copy('https://drive.google.com/drive/folders/1DksCKIwhnnU_y2eAh3vs0eRkQb3Oj7uN?hl=pt-BR')\n",
    "\n",
    "pyautogui.hotkey('command' 'v')\n",
    "pyautogui.press('enter')\n",
    "time.sleep(20)\n",
    "\n",
    "# Passo 2: Exportar o relatório (fazer o download)\n",
    "pyautogui.click(x=358, y=374)\n",
    "time.sleep(5)\n",
    "pyautogui.click(x=1071, y=202)\n",
    "time.sleep(5)\n",
    "pyautogui.click(x=941, y=598)\n",
    "time.sleep(5)"
   ]
  },
  {
   "cell_type": "markdown",
   "metadata": {},
   "source": [
    "### Vamos agora ler o arquivo baixado para pegar os indicadores\n",
    "\n",
    "- Faturamento\n",
    "- Quantidade de Produtos"
   ]
  },
  {
   "cell_type": "code",
   "execution_count": 21,
   "metadata": {},
   "outputs": [
    {
     "name": "stdout",
     "output_type": "stream",
     "text": [
      "      Código Venda       Data                     ID Loja           Produto  \\\n",
      "0            65014 2019-12-01            Shopping Morumbi    Sunga Listrado   \n",
      "1            65014 2019-12-01            Shopping Morumbi   Casaco Listrado   \n",
      "2            65016 2019-12-01           Iguatemi Campinas   Sapato Listrado   \n",
      "3            65016 2019-12-01           Iguatemi Campinas            Casaco   \n",
      "4            65017 2019-12-01          Shopping SP Market        Gorro Liso   \n",
      "...            ...        ...                         ...               ...   \n",
      "7084         69996 2019-12-26  Center Shopping Uberlândia    Short Listrado   \n",
      "7085         69996 2019-12-26  Center Shopping Uberlândia           Mochila   \n",
      "7086         69996 2019-12-26  Center Shopping Uberlândia  Pulseira Estampa   \n",
      "7087         69997 2019-12-26           Ribeirão Shopping   Camisa Listrado   \n",
      "7088         69997 2019-12-26           Ribeirão Shopping       Short Linho   \n",
      "\n",
      "      Quantidade  Valor Unitário  Valor Final  \n",
      "0              5             114          570  \n",
      "1              1             269          269  \n",
      "2              2             363          726  \n",
      "3              1             250          250  \n",
      "4              3              92          276  \n",
      "...          ...             ...          ...  \n",
      "7084           2             102          204  \n",
      "7085           4             270         1080  \n",
      "7086           1              87           87  \n",
      "7087           1             108          108  \n",
      "7088           2             133          266  \n",
      "\n",
      "[7089 rows x 7 columns]\n",
      "2917311\n",
      "15227\n"
     ]
    }
   ],
   "source": [
    "# Passo 3: Calcular os indicadores (faturamento e quantidade de produtos)\n",
    "import pandas as pd\n",
    "\n",
    "tabela = pd.read_excel(r'/Users/alexandrenolla/Downloads/Vendas - Dez.xlsx')\n",
    "print(tabela)\n",
    "\n",
    "faturamento = tabela['Valor Final'].sum()\n",
    "quantidade = tabela['Quantidade'].sum()\n",
    "print(faturamento)\n",
    "print(quantidade)\n",
    "time.sleep(20)"
   ]
  },
  {
   "cell_type": "markdown",
   "metadata": {},
   "source": [
    "### Vamos agora enviar um e-mail pelo gmail"
   ]
  },
  {
   "cell_type": "code",
   "execution_count": 24,
   "metadata": {},
   "outputs": [
    {
     "ename": "NameError",
     "evalue": "name 'pa' is not defined",
     "output_type": "error",
     "traceback": [
      "\u001b[0;31m---------------------------------------------------------------------------\u001b[0m",
      "\u001b[0;31mNameError\u001b[0m                                 Traceback (most recent call last)",
      "Cell \u001b[0;32mIn[24], line 4\u001b[0m\n\u001b[1;32m      1\u001b[0m \u001b[38;5;66;03m# Passo 4: Enviar e-mail com os resultados\u001b[39;00m\n\u001b[1;32m      2\u001b[0m \n\u001b[1;32m      3\u001b[0m \u001b[38;5;66;03m# abrir aba e entrar no email\u001b[39;00m\n\u001b[0;32m----> 4\u001b[0m \u001b[43mpa\u001b[49m\u001b[38;5;241m.\u001b[39mhotkey(\u001b[38;5;124m'\u001b[39m\u001b[38;5;124mcommand\u001b[39m\u001b[38;5;124m'\u001b[39m,\u001b[38;5;124m'\u001b[39m\u001b[38;5;124mt\u001b[39m\u001b[38;5;124m'\u001b[39m)\n\u001b[1;32m      5\u001b[0m pyperclip\u001b[38;5;241m.\u001b[39mcopy(\u001b[38;5;124m'\u001b[39m\u001b[38;5;124mhttps://mail.google.com/mail/u/0/#inbox\u001b[39m\u001b[38;5;124m'\u001b[39m)\n\u001b[1;32m      6\u001b[0m pa\u001b[38;5;241m.\u001b[39mhotkey(\u001b[38;5;124m'\u001b[39m\u001b[38;5;124mcommand\u001b[39m\u001b[38;5;124m'\u001b[39m,\u001b[38;5;124m'\u001b[39m\u001b[38;5;124mv\u001b[39m\u001b[38;5;124m'\u001b[39m)\n",
      "\u001b[0;31mNameError\u001b[0m: name 'pa' is not defined"
     ]
    }
   ],
   "source": [
    "# Passo 4: Enviar e-mail com os resultados\n",
    "\n",
    "# abrir aba e entrar no email\n",
    "pyautogui.hotkey('command','t')\n",
    "pyperclip.copy('https://mail.google.com/mail/u/0/#inbox')\n",
    "pyautogui.hotkey('command','v')\n",
    "pyautogui.press('enter')\n",
    "time.sleep(20)\n",
    "\n",
    "# clicar no botão escrever\n",
    "pyautogui.click(x=32, y=213)\n",
    "time.sleep(5)\n",
    "\n",
    "# preencher as informações do e-mail\n",
    "# destinatário\n",
    "pyautogui.write('alexandre.nolla@gmail.com')\n",
    "pyautogui.press('tab')\n",
    "pyautogui.press('tab')\n",
    "\n",
    "# assunto\n",
    "pyperclip.copy('Relatório de Vendas')\n",
    "pyautogui.hotkey('command','v')\n",
    "pyautogui.press('tab')\n",
    "\n",
    "# corpo\n",
    "texto = f\"\"\"\"\n",
    "Prezados, bom dia!\n",
    "\n",
    "O faturamento de ontem foi de: R${faturamento:,2f}\n",
    "A quantidade de produtos vendidos foi de: R${quantidade:,}\n",
    "\n",
    "Abs, \n",
    "AlexandreHPython\n",
    "\"\"\"\n",
    "pyperclip.copy(texto)\n",
    "pyautogui.hotkey('command','v')\n",
    "\n",
    "# clicar no botão enviar\n",
    "pyautogui.hotkey('command','enter')"
   ]
  },
  {
   "cell_type": "markdown",
   "metadata": {},
   "source": [
    "#### Use esse código para descobrir qual a posição de um item que queira clicar\n",
    "\n",
    "- Lembre-se: a posição na sua tela é diferente da posição na minha tela"
   ]
  },
  {
   "cell_type": "code",
   "execution_count": 22,
   "metadata": {},
   "outputs": [
    {
     "data": {
      "text/plain": [
       "Point(x=32, y=213)"
      ]
     },
     "execution_count": 22,
     "metadata": {},
     "output_type": "execute_result"
    }
   ],
   "source": [
    "import pyautogui\n",
    "import time\n",
    "time.sleep(5)\n",
    "pyautogui.position()"
   ]
  },
  {
   "cell_type": "code",
   "execution_count": null,
   "metadata": {},
   "outputs": [],
   "source": []
  }
 ],
 "metadata": {
  "kernelspec": {
   "display_name": "Python 3 (ipykernel)",
   "language": "python",
   "name": "python3"
  },
  "language_info": {
   "codemirror_mode": {
    "name": "ipython",
    "version": 3
   },
   "file_extension": ".py",
   "mimetype": "text/x-python",
   "name": "python",
   "nbconvert_exporter": "python",
   "pygments_lexer": "ipython3",
   "version": "3.10.7"
  }
 },
 "nbformat": 4,
 "nbformat_minor": 4
}
